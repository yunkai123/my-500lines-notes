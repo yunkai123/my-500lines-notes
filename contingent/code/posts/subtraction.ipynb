{
 "cells": [
  {
   "cell_type": "markdown",
   "source": [
    "The subtraction operation is disturbing because,\n",
    "even if carefully fed only positive integers,\n",
    "it can produce an answer outside of that domain:"
   ],
   "metadata": {}
  },
  {
   "cell_type": "code",
   "execution_count": 1,
   "source": [
    "6 - 7"
   ],
   "outputs": [
    {
     "output_type": "execute_result",
     "data": {
      "text/plain": [
       "-1"
      ]
     },
     "metadata": {},
     "execution_count": 1
    }
   ],
   "metadata": {}
  },
  {
   "cell_type": "code",
   "execution_count": 1,
   "source": [
    "1 + 1\r\n"
   ],
   "outputs": [
    {
     "output_type": "execute_result",
     "data": {
      "text/plain": [
       "2"
      ]
     },
     "metadata": {},
     "execution_count": 1
    }
   ],
   "metadata": {}
  }
 ],
 "metadata": {
  "kernelspec": {
   "name": "python3",
   "display_name": "Python 3.8.3 64-bit"
  },
  "language_info": {
   "codemirror_mode": {
    "name": "ipython",
    "version": 3
   },
   "file_extension": ".py",
   "mimetype": "text/x-python",
   "name": "python",
   "nbconvert_exporter": "python",
   "pygments_lexer": "ipython3",
   "version": "3.8.3"
  },
  "interpreter": {
   "hash": "3b1948fe1afc95dad1a7ebf05a18c2b30b4c35da52c9eb72e91da36290642285"
  }
 },
 "nbformat": 4,
 "nbformat_minor": 4
}